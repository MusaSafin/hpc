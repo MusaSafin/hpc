{
 "cells": [
  {
   "cell_type": "code",
   "execution_count": 14,
   "id": "0fe88910",
   "metadata": {},
   "outputs": [
    {
     "data": {
      "text/plain": [
       "16"
      ]
     },
     "execution_count": 14,
     "metadata": {},
     "output_type": "execute_result"
    }
   ],
   "source": [
    "import multiprocessing\n",
    "multiprocessing.cpu_count()"
   ]
  },
  {
   "cell_type": "code",
   "execution_count": 15,
   "id": "914fc7e3",
   "metadata": {},
   "outputs": [
    {
     "data": {
      "text/plain": [
       "16"
      ]
     },
     "execution_count": 15,
     "metadata": {},
     "output_type": "execute_result"
    }
   ],
   "source": [
    "import psutil\n",
    "psutil.cpu_count()"
   ]
  },
  {
   "cell_type": "code",
   "execution_count": 23,
   "id": "e5493ca3",
   "metadata": {},
   "outputs": [
    {
     "name": "stdout",
     "output_type": "stream",
     "text": [
      "Hello to processor_3 from processor_0\r\n",
      "Hello to processor_2 from processor_3\r\n",
      "Hello to processor_1 from processor_2\r\n"
     ]
    }
   ],
   "source": [
    "!mpiexec -n 4 python mpi_greeting.py"
   ]
  },
  {
   "cell_type": "code",
   "execution_count": 16,
   "id": "6c8f1f93",
   "metadata": {},
   "outputs": [],
   "source": [
    "import random\n",
    "from mpi4py import MPI\n",
    "\n",
    "comm = MPI.COMM_WORLD\n",
    "size = comm.Get_size()\n",
    "rank = comm.Get_rank()"
   ]
  },
  {
   "cell_type": "code",
   "execution_count": 17,
   "id": "0b0c8965",
   "metadata": {},
   "outputs": [
    {
     "data": {
      "text/plain": [
       "(1, 0)"
      ]
     },
     "execution_count": 17,
     "metadata": {},
     "output_type": "execute_result"
    }
   ],
   "source": [
    "size ,rank"
   ]
  },
  {
   "cell_type": "code",
   "execution_count": 27,
   "id": "b4838a5a",
   "metadata": {},
   "outputs": [
    {
     "name": "stdout",
     "output_type": "stream",
     "text": [
      "Requirement already satisfied: numpy in /Users/safin/opt/anaconda3/envs/hpc/lib/python3.8/site-packages (1.23.4)\r\n"
     ]
    },
    {
     "data": {
      "text/plain": [
       "3"
      ]
     },
     "execution_count": 27,
     "metadata": {},
     "output_type": "execute_result"
    }
   ],
   "source": [
    "!pip install numpy\n",
    "import numpy as np\n",
    "np.random.choice(np.arange(4))"
   ]
  },
  {
   "cell_type": "code",
   "execution_count": 6,
   "id": "cd1a9764",
   "metadata": {},
   "outputs": [
    {
     "ename": "IndexError",
     "evalue": "Cannot choose from an empty sequence",
     "output_type": "error",
     "traceback": [
      "\u001b[0;31m---------------------------------------------------------------------------\u001b[0m",
      "\u001b[0;31mIndexError\u001b[0m                                Traceback (most recent call last)",
      "Cell \u001b[0;32mIn [6], line 6\u001b[0m\n\u001b[1;32m      4\u001b[0m \u001b[38;5;28;01mif\u001b[39;00m rank \u001b[38;5;241m==\u001b[39m \u001b[38;5;241m0\u001b[39m:\n\u001b[1;32m      5\u001b[0m     greetings_chain \u001b[38;5;241m=\u001b[39m [(processor_name, rank)]\n\u001b[0;32m----> 6\u001b[0m     dest \u001b[38;5;241m=\u001b[39m \u001b[43mrandom\u001b[49m\u001b[38;5;241;43m.\u001b[39;49m\u001b[43mchoice\u001b[49m\u001b[43m(\u001b[49m\u001b[43mavailable_ranks\u001b[49m\u001b[43m[\u001b[49m\u001b[38;5;241;43m1\u001b[39;49m\u001b[43m:\u001b[49m\u001b[43m]\u001b[49m\u001b[43m)\u001b[49m\n\u001b[1;32m      7\u001b[0m     comm\u001b[38;5;241m.\u001b[39mssend(greetings_chain, dest\u001b[38;5;241m=\u001b[39mdest)\n\u001b[1;32m      8\u001b[0m \u001b[38;5;28;01melse\u001b[39;00m:\n",
      "File \u001b[0;32m~/opt/anaconda3/envs/hpc/lib/python3.8/random.py:290\u001b[0m, in \u001b[0;36mRandom.choice\u001b[0;34m(self, seq)\u001b[0m\n\u001b[1;32m    288\u001b[0m     i \u001b[38;5;241m=\u001b[39m \u001b[38;5;28mself\u001b[39m\u001b[38;5;241m.\u001b[39m_randbelow(\u001b[38;5;28mlen\u001b[39m(seq))\n\u001b[1;32m    289\u001b[0m \u001b[38;5;28;01mexcept\u001b[39;00m \u001b[38;5;167;01mValueError\u001b[39;00m:\n\u001b[0;32m--> 290\u001b[0m     \u001b[38;5;28;01mraise\u001b[39;00m \u001b[38;5;167;01mIndexError\u001b[39;00m(\u001b[38;5;124m'\u001b[39m\u001b[38;5;124mCannot choose from an empty sequence\u001b[39m\u001b[38;5;124m'\u001b[39m) \u001b[38;5;28;01mfrom\u001b[39;00m \u001b[38;5;28mNone\u001b[39m\n\u001b[1;32m    291\u001b[0m \u001b[38;5;28;01mreturn\u001b[39;00m seq[i]\n",
      "\u001b[0;31mIndexError\u001b[0m: Cannot choose from an empty sequence"
     ]
    }
   ],
   "source": [
    "#!/usr/bin/env python\n",
    "import random\n",
    "from mpi4py import MPI\n",
    "\n",
    "\n",
    "def main():\n",
    "    communicator = MPI.COMM_WORLD\n",
    "    rank = communicator.Get_rank()\n",
    "    cpu_name = f\"cpu{rank}\"\n",
    "    size = communicator.Get_size()\n",
    "    free_ranks = list(range(size))\n",
    "\n",
    "    if rank == 0:\n",
    "        cpu_sequence = [(cpu_name, rank)]\n",
    "        next_cpu = random.choice(free_ranks[1:])\n",
    "        communicator.ssend(cpu_sequence, dest=next_cpu)\n",
    "    else:\n",
    "        cpu_sequence = communicator.recv()\n",
    "        print(f\"{cpu_sequence[-1][0]} greets {cpu_name}\", flush=False)\n",
    "        used_ranks = [elem[1] for elem in cpu_sequence] + [rank]\n",
    "        unused_ranks = [elem for elem in unused_ranks if elem not in used_ranks]\n",
    "        if unused_ranks:\n",
    "            cpu_sequence.append((cpu_name, rank))\n",
    "            next_cpu = random.choice(unused_ranks)\n",
    "            communicator.ssend(cpu_sequence, dest=next_cpu)\n",
    "\n",
    "    MPI.Finalize()\n",
    "\n",
    "\n",
    "if __name__ == \"__main__\":\n",
    "    main()"
   ]
  },
  {
   "cell_type": "code",
   "execution_count": null,
   "id": "5387d2fd",
   "metadata": {},
   "outputs": [],
   "source": [
    "MPI.COMM_WORLD"
   ]
  }
 ],
 "metadata": {
  "kernelspec": {
   "display_name": "Python 3 (ipykernel)",
   "language": "python",
   "name": "python3"
  },
  "language_info": {
   "codemirror_mode": {
    "name": "ipython",
    "version": 3
   },
   "file_extension": ".py",
   "mimetype": "text/x-python",
   "name": "python",
   "nbconvert_exporter": "python",
   "pygments_lexer": "ipython3",
   "version": "3.8.15"
  }
 },
 "nbformat": 4,
 "nbformat_minor": 5
}
