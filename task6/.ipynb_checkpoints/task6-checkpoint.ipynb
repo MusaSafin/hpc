{
 "cells": [
  {
   "cell_type": "code",
   "execution_count": 1,
   "id": "6699a9df",
   "metadata": {},
   "outputs": [],
   "source": [
    "import time\n",
    "\n",
    "import numpy as np\n",
    "from numba import njit\n",
    "from SALib.analyze import sobol\n",
    "from SALib.sample import saltelli"
   ]
  },
  {
   "cell_type": "markdown",
   "id": "d9a319b3",
   "metadata": {},
   "source": [
    "# Проведите анализ чувствительности, проверьте сходимость, измерьте тайминги"
   ]
  },
  {
   "cell_type": "code",
   "execution_count": 2,
   "id": "054890e3",
   "metadata": {},
   "outputs": [],
   "source": [
    "NUM_ITERATIONS = 2 ** 17\n",
    "NUM_VARIABLES = 5"
   ]
  },
  {
   "cell_type": "code",
   "execution_count": 3,
   "id": "65e8c64d",
   "metadata": {},
   "outputs": [],
   "source": [
    "problem = {\n",
    "    \"num_vars\": NUM_VARIABLES,\n",
    "    \"names\": [f\"x{i + 1}\" for i in range(NUM_VARIABLES)],\n",
    "    \"bounds\": [[-1.0, 1.0] for _ in range(NUM_VARIABLES)]\n",
    "}"
   ]
  },
  {
   "cell_type": "code",
   "execution_count": 4,
   "id": "13bff666",
   "metadata": {},
   "outputs": [],
   "source": [
    "def evaluate_model(x):\n",
    "    result = x[0] ** 5 \\\n",
    "             - x[0]**4 * x[1] \\\n",
    "             + x[0]**3 * x[1]**2 * x[2] \\\n",
    "             - x[0]**2 * x[1]**3 * x[2]**2 * x[3] \\\n",
    "             + x[0]    * x[1]**4 * x[2]**3 * x[3]**2 * x[4]\n",
    "    return result"
   ]
  },
  {
   "cell_type": "code",
   "execution_count": 5,
   "id": "809b785e",
   "metadata": {},
   "outputs": [
    {
     "name": "stderr",
     "output_type": "stream",
     "text": [
      "/var/folders/6s/19zl7nr54jn29b08ttwznqbm0000gp/T/ipykernel_4946/1610289144.py:2: DeprecationWarning: `salib.sample.saltelli` will be removed in SALib 1.5. Please use `salib.sample.sobol`\n",
      "  param_values = saltelli.sample(problem, NUM_ITERATIONS)\n"
     ]
    },
    {
     "name": "stdout",
     "output_type": "stream",
     "text": [
      "Samples generation took 7.454577 seconds\n",
      "param_values shape: (1572864, 5)\n"
     ]
    }
   ],
   "source": [
    "start_time = time.time()\n",
    "param_values = saltelli.sample(problem, NUM_ITERATIONS)\n",
    "\n",
    "print(f\"Samples generation took {time.time() - start_time:.6f} seconds\")\n",
    "print(f\"param_values shape: {param_values.shape}\")"
   ]
  },
  {
   "cell_type": "code",
   "execution_count": 6,
   "id": "46eba7c7",
   "metadata": {},
   "outputs": [
    {
     "name": "stdout",
     "output_type": "stream",
     "text": [
      "Model evaluation took 4.015293 seconds\n"
     ]
    }
   ],
   "source": [
    "y = np.zeros([param_values.shape[0]])\n",
    "start_time = time.time()\n",
    "\n",
    "for i, x in enumerate(param_values):\n",
    "    y[i] = evaluate_model(x)\n",
    "\n",
    "eval_time = time.time() - start_time\n",
    "print(f\"Model evaluation took {eval_time:.6f} seconds\")"
   ]
  },
  {
   "cell_type": "code",
   "execution_count": 7,
   "id": "225da48e",
   "metadata": {},
   "outputs": [
    {
     "name": "stdout",
     "output_type": "stream",
     "text": [
      "Sobol analysis took 25.532118 seconds\n"
     ]
    }
   ],
   "source": [
    "start_time = time.time()\n",
    "sobol_indices = sobol.analyze(problem, y)\n",
    "print(f\"Sobol analysis took {time.time() - start_time:.6f} seconds\")"
   ]
  },
  {
   "cell_type": "code",
   "execution_count": 8,
   "id": "e62b2439",
   "metadata": {},
   "outputs": [
    {
     "name": "stdout",
     "output_type": "stream",
     "text": [
      "First-order indices:\n",
      "[6.50612740e-01 9.58546455e-02 2.04748855e-04 2.46264223e-05\n",
      " 1.06867457e-04]\n",
      "\n",
      "Second-order indices:\n",
      "x1-x2: 0.16987438126484783\n",
      "x1-x3: 0.03826275403003994\n",
      "x1-x4: 0.00020946561717304196\n",
      "x1-x5: 0.0004444833633367217\n",
      "x2-x3: -0.00011958479017451526\n",
      "x2-x4: 0.004237998244049233\n",
      "x2-x5: -7.914446571177359e-05\n",
      "x3-x4: -4.597263128522027e-05\n",
      "x3-x5: 0.00025829959606260956\n",
      "x4-x5: 0.00041373804245725166\n",
      "\n",
      "Total indices for each variable:\n",
      "[0.89695428 0.31024338 0.07663299 0.01500546 0.00255642]\n"
     ]
    }
   ],
   "source": [
    "print(\"First-order indices:\")\n",
    "print(sobol_indices[\"S1\"])\n",
    "\n",
    "print(\"\\nSecond-order indices:\")\n",
    "for i in range(NUM_VARIABLES):\n",
    "    for j in range(i + 1, NUM_VARIABLES):\n",
    "        print(f\"x{i + 1}-x{j + 1}: {sobol_indices['S2'][i, j]}\")\n",
    "\n",
    "print(\"\\nTotal indices for each variable:\")\n",
    "print(sobol_indices[\"ST\"])"
   ]
  },
  {
   "cell_type": "markdown",
   "id": "28e50037",
   "metadata": {},
   "source": [
    "# Ускорьте вычисления Python с использованием numba"
   ]
  },
  {
   "cell_type": "code",
   "execution_count": 9,
   "id": "a87157bf",
   "metadata": {},
   "outputs": [],
   "source": [
    "@njit\n",
    "def evaluate_model(x):\n",
    "    result = x[0]**5 \\\n",
    "             - x[0]**4 * x[1] \\\n",
    "             + x[0]**3 * x[1]**2 * x[2] \\\n",
    "             - x[0]**2 * x[1]**3 * x[2]**2 * x[3] \\\n",
    "             + x[0]    * x[1]**4 * x[2]**3 * x[3]**2 * x[4]\n",
    "    return result"
   ]
  },
  {
   "cell_type": "code",
   "execution_count": 10,
   "id": "ecda78d9",
   "metadata": {},
   "outputs": [
    {
     "name": "stdout",
     "output_type": "stream",
     "text": [
      "Model evaluation took 1.090427 seconds\n"
     ]
    }
   ],
   "source": [
    "start_time = time.time()\n",
    "\n",
    "for i, x in enumerate(param_values):\n",
    "    y[i] = evaluate_model(x)\n",
    "\n",
    "eval_time_numba = time.time() - start_time\n",
    "\n",
    "print(f\"Model evaluation took {eval_time_numba:.6f} seconds\")"
   ]
  },
  {
   "cell_type": "code",
   "execution_count": 11,
   "id": "9deb3469",
   "metadata": {},
   "outputs": [
    {
     "name": "stdout",
     "output_type": "stream",
     "text": [
      "Using numba resulted in acceleration by 3.68 times.\n"
     ]
    }
   ],
   "source": [
    "print(f\"Using numba resulted in acceleration by \"\n",
    "      f\"{eval_time / eval_time_numba:.2f} times.\")"
   ]
  },
  {
   "cell_type": "code",
   "execution_count": null,
   "id": "1f0fb64b",
   "metadata": {},
   "outputs": [],
   "source": []
  },
  {
   "cell_type": "code",
   "execution_count": null,
   "id": "e10f2eef",
   "metadata": {},
   "outputs": [],
   "source": []
  }
 ],
 "metadata": {
  "kernelspec": {
   "display_name": "Python 3 (ipykernel)",
   "language": "python",
   "name": "python3"
  },
  "language_info": {
   "codemirror_mode": {
    "name": "ipython",
    "version": 3
   },
   "file_extension": ".py",
   "mimetype": "text/x-python",
   "name": "python",
   "nbconvert_exporter": "python",
   "pygments_lexer": "ipython3",
   "version": "3.8.15"
  }
 },
 "nbformat": 4,
 "nbformat_minor": 5
}
